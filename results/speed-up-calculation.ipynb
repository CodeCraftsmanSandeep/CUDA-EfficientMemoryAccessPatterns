{
 "cells": [
  {
   "cell_type": "code",
   "execution_count": null,
   "metadata": {},
   "outputs": [
    {
     "name": "stdout",
     "output_type": "stream",
     "text": [
      "Speedup CSV generated: speedupData.csv\n",
      "Filtered speedup CSV generated: speedupDataSelected.csv\n"
     ]
    }
   ],
   "source": [
    "import pandas as pd\n",
    "\n",
    "# Read the CSV files\n",
    "grid_df = pd.read_csv(\"gridStrideTreeReductionResults.csv\")\n",
    "block_df = pd.read_csv(\"blockStrideTreeReductionResults.csv\")\n",
    "warp_df = pd.read_csv(\"warpStrideTreeReductionResults.csv\")\n",
    "\n",
    "# Select and rename columns for clarity (we only need 'N' and 'Mean-time(ms)')\n",
    "grid_df = grid_df[['N', 'Mean-time(ms)']].rename(columns={'Mean-time(ms)': 'GridTime'})\n",
    "block_df = block_df[['N', 'Mean-time(ms)']].rename(columns={'Mean-time(ms)': 'BlockTime'})\n",
    "warp_df = warp_df[['N', 'Mean-time(ms)']].rename(columns={'Mean-time(ms)': 'WarpTime'})\n",
    "\n",
    "# Merge the DataFrames on 'N' (assuming the same N values appear in each file)\n",
    "merged_df = pd.merge(grid_df, block_df, on='N')\n",
    "merged_df = pd.merge(merged_df, warp_df, on='N')\n",
    "\n",
    "# Compute speedups:\n",
    "# BlockSpeedup = GridTime / BlockTime\n",
    "# WarpSpeedup  = GridTime / WarpTime\n",
    "merged_df['BlockSpeedup'] = merged_df['GridTime'] / merged_df['BlockTime']\n",
    "merged_df['WarpSpeedup'] = merged_df['GridTime'] / merged_df['WarpTime']\n",
    "\n",
    "# Create the output DataFrame with desired columns\n",
    "speedup_df = merged_df[['N', 'BlockSpeedup', 'WarpSpeedup']]\n",
    "\n",
    "# Save the result to a new CSV file\n",
    "speedup_df.to_csv(\"speedupData.csv\", index=False)\n",
    "\n",
    "print(\"Speedup CSV generated: speedupData.csv\")\n",
    "\n",
    "# Define the selected N values\n",
    "selected_N = [3771757, 10000000, 90000000, 170000000, 490000000, 730000000, 1130000000, 1530000000, 1950000000]\n",
    "\n",
    "# Filter the dataframe for only the selected N values\n",
    "selected_speedup_df = speedup_df[speedup_df['N'].isin(selected_N)]\n",
    "\n",
    "# Write the filtered speedup data to a new CSV file\n",
    "selected_speedup_df.to_csv(\"speedupDataSelected.csv\", index=False)\n",
    "\n",
    "print(\"Filtered speedup CSV generated: speedupDataSelected.csv\")\n"
   ]
  },
  {
   "cell_type": "code",
   "execution_count": null,
   "metadata": {},
   "outputs": [],
   "source": []
  }
 ],
 "metadata": {
  "kernelspec": {
   "display_name": "Python 3",
   "language": "python",
   "name": "python3"
  },
  "language_info": {
   "codemirror_mode": {
    "name": "ipython",
    "version": 3
   },
   "file_extension": ".py",
   "mimetype": "text/x-python",
   "name": "python",
   "nbconvert_exporter": "python",
   "pygments_lexer": "ipython3",
   "version": "3.9.6"
  }
 },
 "nbformat": 4,
 "nbformat_minor": 2
}
